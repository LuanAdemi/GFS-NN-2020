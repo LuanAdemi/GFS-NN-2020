{
 "cells": [
  {
   "cell_type": "markdown",
   "metadata": {},
   "source": [
    "# **Neuronale Netzwerke und ihre Anwendungen**"
   ]
  },
  {
   "cell_type": "markdown",
   "metadata": {},
   "source": [
    "### Gliederung\n",
    "- [Einführung: Was sind neuronale Netze](Einführung.ipynb)\n",
    "- Die Mathematik hinter neuronalen Netzen - so simpel wie möglich\n",
    "- Anwendungsbeispiele\n",
    "    - [Funktionsapproximation](NN_Sine_Approx.ipynb)\n",
    "    - [Time Series Prediction](Corona.ipynb)\n",
    "    - [Reinforcement Learning](LL.ipynb)"
   ]
  },
  {
   "cell_type": "code",
   "execution_count": null,
   "metadata": {},
   "outputs": [],
   "source": []
  }
 ],
 "metadata": {
  "kernelspec": {
   "display_name": "Python 3",
   "language": "python",
   "name": "python3"
  },
  "language_info": {
   "codemirror_mode": {
    "name": "ipython",
    "version": 3
   },
   "file_extension": ".py",
   "mimetype": "text/x-python",
   "name": "python",
   "nbconvert_exporter": "python",
   "pygments_lexer": "ipython3",
   "version": "3.6.9"
  }
 },
 "nbformat": 4,
 "nbformat_minor": 4
}
