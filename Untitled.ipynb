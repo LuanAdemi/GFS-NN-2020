{
 "cells": [
  {
   "cell_type": "markdown",
   "metadata": {},
   "source": [
    "# Die Mathematik hinter neuronalen Netzen - so simpel wie möglich"
   ]
  },
  {
   "cell_type": "markdown",
   "metadata": {},
   "source": [
    "### Back propagation mit dem Gradientenverfahren"
   ]
  },
  {
   "cell_type": "markdown",
   "metadata": {},
   "source": [
    "Da wir $W$ und $B$ irgendwie so festlegen müssen, dass $Y = Y^*$ gilt, können wir ja erstmal $W$ und $B$ zufällig wählen und darauf hoffen, dass das schon so passt.\n",
    "\n",
    "Leider ist die Wahrscheinlichkeit, dass das passt gleich Null. **Wir müssen also \"schlauer\" an das Problem rangehen...**\n",
    "\n",
    "Hierführ überlegen wir uns nochmal unser Ziel:\n",
    "\n",
    "Wir wollen, dass $Y = Y^*$ oder zumindestens $Y \\approx Y^*$. \n",
    "\n",
    "Daraus folgt, dass wir uns einen sogenannten Error-Wert mit $E = Y^* - Y$ definieren. Nun haben wir ein \"einfaches\" Optimierungsproblem, welches wir schon aus dem Matheunterricht kennen: **Finde den Tiefpunkt einer Funktion.**\n",
    "\n",
    "Denn wir wollen ja, dass $Y = Y^*$ also $E=0$. Somit ist es unser Ziel, $E$ zu minimieren.\n",
    "\n",
    "Da $Y = f(W*X+B)$ gilt, notieren wir $E$ mit $E = Y^* - f(WX+B)$. \n",
    "\n",
    "Nun haben wir bald eine Funktion für unser Optimierungsproblem. Jedoch müssen wir noch ein großes Problem lösen: **lokale Minimas**.\n",
    "\n",
    "Damit $E$ gegen Null geht, ist es wichtig, dass wir kein lokales Minimum in unserer Funktion haben, da wir dort \"gefangen\" werden und so $E$ niemals Null werden kann.\n",
    "\n",
    "Dies erreicht man, indem man sich aus dem Errorwert eine Loss-Funktion baut, welche die Form einer Parabel zweiter Ordnung besitz, da wir dort nur einen Tiefpunkt haben.\n",
    "\n",
    "Diese sieht wie folgt aus: $J = \\frac{1}{2}(Y^* - f(WX+B))^2$"
   ]
  },
  {
   "cell_type": "code",
   "execution_count": null,
   "metadata": {},
   "outputs": [],
   "source": []
  }
 ],
 "metadata": {
  "kernelspec": {
   "display_name": "Python 3",
   "language": "python",
   "name": "python3"
  },
  "language_info": {
   "codemirror_mode": {
    "name": "ipython",
    "version": 3
   },
   "file_extension": ".py",
   "mimetype": "text/x-python",
   "name": "python",
   "nbconvert_exporter": "python",
   "pygments_lexer": "ipython3",
   "version": "3.6.9"
  }
 },
 "nbformat": 4,
 "nbformat_minor": 4
}
